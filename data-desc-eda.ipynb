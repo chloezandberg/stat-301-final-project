{
 "cells": [
  {
   "cell_type": "code",
   "execution_count": 10,
   "id": "1e357a58-0b54-465e-ae35-fc0f86aa831d",
   "metadata": {
    "scrolled": true
   },
   "outputs": [
    {
     "name": "stderr",
     "output_type": "stream",
     "text": [
      "\n",
      "Attaching package: ‘janitor’\n",
      "\n",
      "\n",
      "The following objects are masked from ‘package:stats’:\n",
      "\n",
      "    chisq.test, fisher.test\n",
      "\n",
      "\n"
     ]
    }
   ],
   "source": [
    "library(tidyverse)\n",
    "library(repr)\n",
    "library(infer)\n",
    "library(cowplot)\n",
    "library(broom)\n",
    "library(janitor)"
   ]
  },
  {
   "cell_type": "markdown",
   "id": "ceb029c0-fb14-4b12-9b67-d935c58230d6",
   "metadata": {},
   "source": [
    "## (1) Data Description:\n",
    "Provide a full description of the dataset chosen. Note that the selected dataset will probably contain more variables than you need. In fact, exploring how the different variables in the dataset affect your model may be a crucial part of the project. Regardless of which variables you plan to use, provide a full descriptive summary of the dataset, including information such as the number of observations, number of variables, name and type of variables, etc. You may want to use a table or bullet points to describe the variables in the dataset.\n",
    "\n",
    "Include a brief description of the dataset indicating how the data has been collected or where it comes from."
   ]
  },
  {
   "cell_type": "markdown",
   "id": "3447553a-5ed6-4736-873e-c983c904096d",
   "metadata": {},
   "source": [
    "### Data description\n",
    "\n",
    "**The following data set is from Kaggle and records 24 variables across 2704 reposititories on Git Hub that have over 167 stars. The variables within this dataset are explained below. The data was collected through the Git Hub Search API and posted on Kaggle for public use.**"
   ]
  },
  {
   "cell_type": "code",
   "execution_count": 2,
   "id": "c732b269-3984-48ee-afe0-b357c1df952d",
   "metadata": {},
   "outputs": [
    {
     "name": "stderr",
     "output_type": "stream",
     "text": [
      "\u001b[1mRows: \u001b[22m\u001b[34m2704\u001b[39m \u001b[1mColumns: \u001b[22m\u001b[34m24\u001b[39m\n",
      "\u001b[36m──\u001b[39m \u001b[1mColumn specification\u001b[22m \u001b[36m────────────────────────────────────────────────────────\u001b[39m\n",
      "\u001b[1mDelimiter:\u001b[22m \",\"\n",
      "\u001b[31mchr\u001b[39m  (8): Name, Description, URL, Homepage, Language, License, Topics, Defau...\n",
      "\u001b[32mdbl\u001b[39m  (5): Size, Stars, Forks, Issues, Watchers\n",
      "\u001b[33mlgl\u001b[39m  (9): Has Issues, Has Projects, Has Downloads, Has Wiki, Has Pages, Has ...\n",
      "\u001b[34mdttm\u001b[39m (2): Created At, Updated At\n",
      "\n",
      "\u001b[36mℹ\u001b[39m Use `spec()` to retrieve the full column specification for this data.\n",
      "\u001b[36mℹ\u001b[39m Specify the column types or set `show_col_types = FALSE` to quiet this message.\n"
     ]
    }
   ],
   "source": [
    "repos <- read_csv('data/repositories.csv')"
   ]
  },
  {
   "cell_type": "code",
   "execution_count": 7,
   "id": "9c36ada8-71fd-4ee3-a9e4-39dd5e1a2eaa",
   "metadata": {},
   "outputs": [
    {
     "data": {
      "text/html": [
       "<style>\n",
       ".list-inline {list-style: none; margin:0; padding: 0}\n",
       ".list-inline>li {display: inline-block}\n",
       ".list-inline>li:not(:last-child)::after {content: \"\\00b7\"; padding: 0 .5ex}\n",
       "</style>\n",
       "<ol class=list-inline><li>'Name'</li><li>'Description'</li><li>'URL'</li><li>'Created At'</li><li>'Updated At'</li><li>'Homepage'</li><li>'Size'</li><li>'Stars'</li><li>'Forks'</li><li>'Issues'</li><li>'Watchers'</li><li>'Language'</li><li>'License'</li><li>'Topics'</li><li>'Has Issues'</li><li>'Has Projects'</li><li>'Has Downloads'</li><li>'Has Wiki'</li><li>'Has Pages'</li><li>'Has Discussions'</li><li>'Is Fork'</li><li>'Is Archived'</li><li>'Is Template'</li><li>'Default Branch'</li></ol>\n"
      ],
      "text/latex": [
       "\\begin{enumerate*}\n",
       "\\item 'Name'\n",
       "\\item 'Description'\n",
       "\\item 'URL'\n",
       "\\item 'Created At'\n",
       "\\item 'Updated At'\n",
       "\\item 'Homepage'\n",
       "\\item 'Size'\n",
       "\\item 'Stars'\n",
       "\\item 'Forks'\n",
       "\\item 'Issues'\n",
       "\\item 'Watchers'\n",
       "\\item 'Language'\n",
       "\\item 'License'\n",
       "\\item 'Topics'\n",
       "\\item 'Has Issues'\n",
       "\\item 'Has Projects'\n",
       "\\item 'Has Downloads'\n",
       "\\item 'Has Wiki'\n",
       "\\item 'Has Pages'\n",
       "\\item 'Has Discussions'\n",
       "\\item 'Is Fork'\n",
       "\\item 'Is Archived'\n",
       "\\item 'Is Template'\n",
       "\\item 'Default Branch'\n",
       "\\end{enumerate*}\n"
      ],
      "text/markdown": [
       "1. 'Name'\n",
       "2. 'Description'\n",
       "3. 'URL'\n",
       "4. 'Created At'\n",
       "5. 'Updated At'\n",
       "6. 'Homepage'\n",
       "7. 'Size'\n",
       "8. 'Stars'\n",
       "9. 'Forks'\n",
       "10. 'Issues'\n",
       "11. 'Watchers'\n",
       "12. 'Language'\n",
       "13. 'License'\n",
       "14. 'Topics'\n",
       "15. 'Has Issues'\n",
       "16. 'Has Projects'\n",
       "17. 'Has Downloads'\n",
       "18. 'Has Wiki'\n",
       "19. 'Has Pages'\n",
       "20. 'Has Discussions'\n",
       "21. 'Is Fork'\n",
       "22. 'Is Archived'\n",
       "23. 'Is Template'\n",
       "24. 'Default Branch'\n",
       "\n",
       "\n"
      ],
      "text/plain": [
       " [1] \"Name\"            \"Description\"     \"URL\"             \"Created At\"     \n",
       " [5] \"Updated At\"      \"Homepage\"        \"Size\"            \"Stars\"          \n",
       " [9] \"Forks\"           \"Issues\"          \"Watchers\"        \"Language\"       \n",
       "[13] \"License\"         \"Topics\"          \"Has Issues\"      \"Has Projects\"   \n",
       "[17] \"Has Downloads\"   \"Has Wiki\"        \"Has Pages\"       \"Has Discussions\"\n",
       "[21] \"Is Fork\"         \"Is Archived\"     \"Is Template\"     \"Default Branch\" "
      ]
     },
     "metadata": {},
     "output_type": "display_data"
    }
   ],
   "source": [
    "colnames(repos)"
   ]
  },
  {
   "cell_type": "code",
   "execution_count": 8,
   "id": "9bdd1bc6-812f-42c7-ade5-050cfde76054",
   "metadata": {},
   "outputs": [
    {
     "data": {
      "text/plain": [
       "     Name           Description            URL           \n",
       " Length:2704        Length:2704        Length:2704       \n",
       " Class :character   Class :character   Class :character  \n",
       " Mode  :character   Mode  :character   Mode  :character  \n",
       "                                                         \n",
       "                                                         \n",
       "                                                         \n",
       "   Created At                       Updated At                    \n",
       " Min.   :2008-03-10 07:34:08.00   Min.   :2023-09-11 18:10:44.00  \n",
       " 1st Qu.:2014-02-05 22:59:20.75   1st Qu.:2023-09-21 06:39:27.25  \n",
       " Median :2016-02-29 10:58:30.00   Median :2023-09-21 09:39:46.50  \n",
       " Mean   :2016-04-17 18:12:18.00   Mean   :2023-09-21 05:26:52.74  \n",
       " 3rd Qu.:2018-07-24 15:44:40.75   3rd Qu.:2023-09-21 10:57:54.00  \n",
       " Max.   :2023-08-13 16:17:24.00   Max.   :2023-09-21 11:51:11.00  \n",
       "   Homepage              Size              Stars            Forks       \n",
       " Length:2704        Min.   :       0   Min.   : 11095   Min.   :    75  \n",
       " Class :character   1st Qu.:    4163   1st Qu.: 13336   1st Qu.:  1388  \n",
       " Mode  :character   Median :   21243   Median : 17152   Median :  2464  \n",
       "                    Mean   :  188360   Mean   : 24404   Mean   :  4378  \n",
       "                    3rd Qu.:   98760   3rd Qu.: 24770   3rd Qu.:  4591  \n",
       "                    Max.   :40476250   Max.   :374074   Max.   :138577  \n",
       "     Issues           Watchers        Language           License         \n",
       " Min.   :    0.0   Min.   : 11095   Length:2704        Length:2704       \n",
       " 1st Qu.:   38.0   1st Qu.: 13336   Class :character   Class :character  \n",
       " Median :  146.0   Median : 17152   Mode  :character   Mode  :character  \n",
       " Mean   :  424.7   Mean   : 24404                                        \n",
       " 3rd Qu.:  387.2   3rd Qu.: 24770                                        \n",
       " Max.   :26543.0   Max.   :374074                                        \n",
       "    Topics          Has Issues      Has Projects    Has Downloads  \n",
       " Length:2704        Mode :logical   Mode :logical   Mode :logical  \n",
       " Class :character   FALSE:122       FALSE:723       FALSE:59       \n",
       " Mode  :character   TRUE :2582      TRUE :1981      TRUE :2645     \n",
       "                                                                   \n",
       "                                                                   \n",
       "                                                                   \n",
       "  Has Wiki       Has Pages       Has Discussions  Is Fork       \n",
       " Mode :logical   Mode :logical   Mode :logical   Mode :logical  \n",
       " FALSE:1055      FALSE:1946      FALSE:1619      FALSE:2704     \n",
       " TRUE :1649      TRUE :758       TRUE :1085                     \n",
       "                                                                \n",
       "                                                                \n",
       "                                                                \n",
       " Is Archived     Is Template     Default Branch    \n",
       " Mode :logical   Mode :logical   Length:2704       \n",
       " FALSE:2606      FALSE:2690      Class :character  \n",
       " TRUE :98        TRUE :14        Mode  :character  \n",
       "                                                   \n",
       "                                                   \n",
       "                                                   "
      ]
     },
     "metadata": {},
     "output_type": "display_data"
    }
   ],
   "source": [
    "summary(repos)"
   ]
  },
  {
   "cell_type": "code",
   "execution_count": 9,
   "id": "2174190f-8e4a-4976-bdd2-da5ffe2d26fb",
   "metadata": {},
   "outputs": [
    {
     "data": {
      "text/html": [
       "<table class=\"dataframe\">\n",
       "<caption>A tibble: 6 × 24</caption>\n",
       "<thead>\n",
       "\t<tr><th scope=col>Name</th><th scope=col>Description</th><th scope=col>URL</th><th scope=col>Created At</th><th scope=col>Updated At</th><th scope=col>Homepage</th><th scope=col>Size</th><th scope=col>Stars</th><th scope=col>Forks</th><th scope=col>Issues</th><th scope=col>⋯</th><th scope=col>Has Issues</th><th scope=col>Has Projects</th><th scope=col>Has Downloads</th><th scope=col>Has Wiki</th><th scope=col>Has Pages</th><th scope=col>Has Discussions</th><th scope=col>Is Fork</th><th scope=col>Is Archived</th><th scope=col>Is Template</th><th scope=col>Default Branch</th></tr>\n",
       "\t<tr><th scope=col>&lt;chr&gt;</th><th scope=col>&lt;chr&gt;</th><th scope=col>&lt;chr&gt;</th><th scope=col>&lt;dttm&gt;</th><th scope=col>&lt;dttm&gt;</th><th scope=col>&lt;chr&gt;</th><th scope=col>&lt;dbl&gt;</th><th scope=col>&lt;dbl&gt;</th><th scope=col>&lt;dbl&gt;</th><th scope=col>&lt;dbl&gt;</th><th scope=col>⋯</th><th scope=col>&lt;lgl&gt;</th><th scope=col>&lt;lgl&gt;</th><th scope=col>&lt;lgl&gt;</th><th scope=col>&lt;lgl&gt;</th><th scope=col>&lt;lgl&gt;</th><th scope=col>&lt;lgl&gt;</th><th scope=col>&lt;lgl&gt;</th><th scope=col>&lt;lgl&gt;</th><th scope=col>&lt;lgl&gt;</th><th scope=col>&lt;chr&gt;</th></tr>\n",
       "</thead>\n",
       "<tbody>\n",
       "\t<tr><td>freeCodeCamp               </td><td>freeCodeCamp.org's open-source codebase and curriculum. Learn to code for free.         </td><td>https://github.com/freeCodeCamp/freeCodeCamp             </td><td>2014-12-24 17:49:19</td><td>2023-09-21 11:32:33</td><td>http://contribute.freecodecamp.org/                      </td><td>387451</td><td>374074</td><td>33599</td><td>  248</td><td>⋯</td><td> TRUE</td><td> TRUE</td><td>TRUE</td><td>FALSE</td><td> TRUE</td><td>FALSE</td><td>FALSE</td><td>FALSE</td><td>FALSE</td><td>main  </td></tr>\n",
       "\t<tr><td>free-programming-books     </td><td>:books: Freely available programming books                                              </td><td>https://github.com/EbookFoundation/free-programming-books</td><td>2013-10-11 06:50:37</td><td>2023-09-21 11:09:25</td><td>https://ebookfoundation.github.io/free-programming-books/</td><td> 17087</td><td>298393</td><td>57194</td><td>   46</td><td>⋯</td><td> TRUE</td><td>FALSE</td><td>TRUE</td><td>FALSE</td><td> TRUE</td><td>FALSE</td><td>FALSE</td><td>FALSE</td><td>FALSE</td><td>main  </td></tr>\n",
       "\t<tr><td>awesome                    </td><td>😎 Awesome lists about all kinds of interesting topics                                  </td><td>https://github.com/sindresorhus/awesome                  </td><td>2014-07-11 13:42:37</td><td>2023-09-21 11:18:22</td><td>NA                                                       </td><td>  1441</td><td>269997</td><td>26485</td><td>   61</td><td>⋯</td><td> TRUE</td><td>FALSE</td><td>TRUE</td><td>FALSE</td><td> TRUE</td><td>FALSE</td><td>FALSE</td><td>FALSE</td><td>FALSE</td><td>main  </td></tr>\n",
       "\t<tr><td>996.ICU                    </td><td>Repo for counting stars and contributing. Press F to pay respect to glorious developers.</td><td>https://github.com/996icu/996.ICU                        </td><td>2019-03-26 07:31:14</td><td>2023-09-21 08:09:01</td><td>https://996.icu                                          </td><td>187799</td><td>267901</td><td>21497</td><td>16712</td><td>⋯</td><td>FALSE</td><td>FALSE</td><td>TRUE</td><td>FALSE</td><td>FALSE</td><td>FALSE</td><td>FALSE</td><td> TRUE</td><td>FALSE</td><td>master</td></tr>\n",
       "\t<tr><td>coding-interview-university</td><td>A complete computer science study plan to become a software engineer.                   </td><td>https://github.com/jwasham/coding-interview-university   </td><td>2016-06-06 02:34:12</td><td>2023-09-21 10:54:48</td><td>NA                                                       </td><td> 20998</td><td>265161</td><td>69434</td><td>   56</td><td>⋯</td><td> TRUE</td><td>FALSE</td><td>TRUE</td><td>FALSE</td><td>FALSE</td><td>FALSE</td><td>FALSE</td><td>FALSE</td><td>FALSE</td><td>main  </td></tr>\n",
       "\t<tr><td>public-apis                </td><td>A collective list of free APIs                                                          </td><td>https://github.com/public-apis/public-apis               </td><td>2016-03-20 23:49:42</td><td>2023-09-21 11:22:06</td><td>http://public-apis.org                                   </td><td>  5088</td><td>256615</td><td>29254</td><td>  191</td><td>⋯</td><td> TRUE</td><td>FALSE</td><td>TRUE</td><td>FALSE</td><td>FALSE</td><td>FALSE</td><td>FALSE</td><td>FALSE</td><td>FALSE</td><td>master</td></tr>\n",
       "</tbody>\n",
       "</table>\n"
      ],
      "text/latex": [
       "A tibble: 6 × 24\n",
       "\\begin{tabular}{lllllllllllllllllllll}\n",
       " Name & Description & URL & Created At & Updated At & Homepage & Size & Stars & Forks & Issues & ⋯ & Has Issues & Has Projects & Has Downloads & Has Wiki & Has Pages & Has Discussions & Is Fork & Is Archived & Is Template & Default Branch\\\\\n",
       " <chr> & <chr> & <chr> & <dttm> & <dttm> & <chr> & <dbl> & <dbl> & <dbl> & <dbl> & ⋯ & <lgl> & <lgl> & <lgl> & <lgl> & <lgl> & <lgl> & <lgl> & <lgl> & <lgl> & <chr>\\\\\n",
       "\\hline\n",
       "\t freeCodeCamp                & freeCodeCamp.org's open-source codebase and curriculum. Learn to code for free.          & https://github.com/freeCodeCamp/freeCodeCamp              & 2014-12-24 17:49:19 & 2023-09-21 11:32:33 & http://contribute.freecodecamp.org/                       & 387451 & 374074 & 33599 &   248 & ⋯ &  TRUE &  TRUE & TRUE & FALSE &  TRUE & FALSE & FALSE & FALSE & FALSE & main  \\\\\n",
       "\t free-programming-books      & :books: Freely available programming books                                               & https://github.com/EbookFoundation/free-programming-books & 2013-10-11 06:50:37 & 2023-09-21 11:09:25 & https://ebookfoundation.github.io/free-programming-books/ &  17087 & 298393 & 57194 &    46 & ⋯ &  TRUE & FALSE & TRUE & FALSE &  TRUE & FALSE & FALSE & FALSE & FALSE & main  \\\\\n",
       "\t awesome                     & 😎 Awesome lists about all kinds of interesting topics                                   & https://github.com/sindresorhus/awesome                   & 2014-07-11 13:42:37 & 2023-09-21 11:18:22 & NA                                                        &   1441 & 269997 & 26485 &    61 & ⋯ &  TRUE & FALSE & TRUE & FALSE &  TRUE & FALSE & FALSE & FALSE & FALSE & main  \\\\\n",
       "\t 996.ICU                     & Repo for counting stars and contributing. Press F to pay respect to glorious developers. & https://github.com/996icu/996.ICU                         & 2019-03-26 07:31:14 & 2023-09-21 08:09:01 & https://996.icu                                           & 187799 & 267901 & 21497 & 16712 & ⋯ & FALSE & FALSE & TRUE & FALSE & FALSE & FALSE & FALSE &  TRUE & FALSE & master\\\\\n",
       "\t coding-interview-university & A complete computer science study plan to become a software engineer.                    & https://github.com/jwasham/coding-interview-university    & 2016-06-06 02:34:12 & 2023-09-21 10:54:48 & NA                                                        &  20998 & 265161 & 69434 &    56 & ⋯ &  TRUE & FALSE & TRUE & FALSE & FALSE & FALSE & FALSE & FALSE & FALSE & main  \\\\\n",
       "\t public-apis                 & A collective list of free APIs                                                           & https://github.com/public-apis/public-apis                & 2016-03-20 23:49:42 & 2023-09-21 11:22:06 & http://public-apis.org                                    &   5088 & 256615 & 29254 &   191 & ⋯ &  TRUE & FALSE & TRUE & FALSE & FALSE & FALSE & FALSE & FALSE & FALSE & master\\\\\n",
       "\\end{tabular}\n"
      ],
      "text/markdown": [
       "\n",
       "A tibble: 6 × 24\n",
       "\n",
       "| Name &lt;chr&gt; | Description &lt;chr&gt; | URL &lt;chr&gt; | Created At &lt;dttm&gt; | Updated At &lt;dttm&gt; | Homepage &lt;chr&gt; | Size &lt;dbl&gt; | Stars &lt;dbl&gt; | Forks &lt;dbl&gt; | Issues &lt;dbl&gt; | ⋯ ⋯ | Has Issues &lt;lgl&gt; | Has Projects &lt;lgl&gt; | Has Downloads &lt;lgl&gt; | Has Wiki &lt;lgl&gt; | Has Pages &lt;lgl&gt; | Has Discussions &lt;lgl&gt; | Is Fork &lt;lgl&gt; | Is Archived &lt;lgl&gt; | Is Template &lt;lgl&gt; | Default Branch &lt;chr&gt; |\n",
       "|---|---|---|---|---|---|---|---|---|---|---|---|---|---|---|---|---|---|---|---|---|\n",
       "| freeCodeCamp                | freeCodeCamp.org's open-source codebase and curriculum. Learn to code for free.          | https://github.com/freeCodeCamp/freeCodeCamp              | 2014-12-24 17:49:19 | 2023-09-21 11:32:33 | http://contribute.freecodecamp.org/                       | 387451 | 374074 | 33599 |   248 | ⋯ |  TRUE |  TRUE | TRUE | FALSE |  TRUE | FALSE | FALSE | FALSE | FALSE | main   |\n",
       "| free-programming-books      | :books: Freely available programming books                                               | https://github.com/EbookFoundation/free-programming-books | 2013-10-11 06:50:37 | 2023-09-21 11:09:25 | https://ebookfoundation.github.io/free-programming-books/ |  17087 | 298393 | 57194 |    46 | ⋯ |  TRUE | FALSE | TRUE | FALSE |  TRUE | FALSE | FALSE | FALSE | FALSE | main   |\n",
       "| awesome                     | 😎 Awesome lists about all kinds of interesting topics                                   | https://github.com/sindresorhus/awesome                   | 2014-07-11 13:42:37 | 2023-09-21 11:18:22 | NA                                                        |   1441 | 269997 | 26485 |    61 | ⋯ |  TRUE | FALSE | TRUE | FALSE |  TRUE | FALSE | FALSE | FALSE | FALSE | main   |\n",
       "| 996.ICU                     | Repo for counting stars and contributing. Press F to pay respect to glorious developers. | https://github.com/996icu/996.ICU                         | 2019-03-26 07:31:14 | 2023-09-21 08:09:01 | https://996.icu                                           | 187799 | 267901 | 21497 | 16712 | ⋯ | FALSE | FALSE | TRUE | FALSE | FALSE | FALSE | FALSE |  TRUE | FALSE | master |\n",
       "| coding-interview-university | A complete computer science study plan to become a software engineer.                    | https://github.com/jwasham/coding-interview-university    | 2016-06-06 02:34:12 | 2023-09-21 10:54:48 | NA                                                        |  20998 | 265161 | 69434 |    56 | ⋯ |  TRUE | FALSE | TRUE | FALSE | FALSE | FALSE | FALSE | FALSE | FALSE | main   |\n",
       "| public-apis                 | A collective list of free APIs                                                           | https://github.com/public-apis/public-apis                | 2016-03-20 23:49:42 | 2023-09-21 11:22:06 | http://public-apis.org                                    |   5088 | 256615 | 29254 |   191 | ⋯ |  TRUE | FALSE | TRUE | FALSE | FALSE | FALSE | FALSE | FALSE | FALSE | master |\n",
       "\n"
      ],
      "text/plain": [
       "  Name                       \n",
       "1 freeCodeCamp               \n",
       "2 free-programming-books     \n",
       "3 awesome                    \n",
       "4 996.ICU                    \n",
       "5 coding-interview-university\n",
       "6 public-apis                \n",
       "  Description                                                                             \n",
       "1 freeCodeCamp.org's open-source codebase and curriculum. Learn to code for free.         \n",
       "2 :books: Freely available programming books                                              \n",
       "3 😎 Awesome lists about all kinds of interesting topics                                  \n",
       "4 Repo for counting stars and contributing. Press F to pay respect to glorious developers.\n",
       "5 A complete computer science study plan to become a software engineer.                   \n",
       "6 A collective list of free APIs                                                          \n",
       "  URL                                                       Created At         \n",
       "1 https://github.com/freeCodeCamp/freeCodeCamp              2014-12-24 17:49:19\n",
       "2 https://github.com/EbookFoundation/free-programming-books 2013-10-11 06:50:37\n",
       "3 https://github.com/sindresorhus/awesome                   2014-07-11 13:42:37\n",
       "4 https://github.com/996icu/996.ICU                         2019-03-26 07:31:14\n",
       "5 https://github.com/jwasham/coding-interview-university    2016-06-06 02:34:12\n",
       "6 https://github.com/public-apis/public-apis                2016-03-20 23:49:42\n",
       "  Updated At          Homepage                                                 \n",
       "1 2023-09-21 11:32:33 http://contribute.freecodecamp.org/                      \n",
       "2 2023-09-21 11:09:25 https://ebookfoundation.github.io/free-programming-books/\n",
       "3 2023-09-21 11:18:22 NA                                                       \n",
       "4 2023-09-21 08:09:01 https://996.icu                                          \n",
       "5 2023-09-21 10:54:48 NA                                                       \n",
       "6 2023-09-21 11:22:06 http://public-apis.org                                   \n",
       "  Size   Stars  Forks Issues ⋯ Has Issues Has Projects Has Downloads Has Wiki\n",
       "1 387451 374074 33599   248  ⋯  TRUE       TRUE        TRUE          FALSE   \n",
       "2  17087 298393 57194    46  ⋯  TRUE      FALSE        TRUE          FALSE   \n",
       "3   1441 269997 26485    61  ⋯  TRUE      FALSE        TRUE          FALSE   \n",
       "4 187799 267901 21497 16712  ⋯ FALSE      FALSE        TRUE          FALSE   \n",
       "5  20998 265161 69434    56  ⋯  TRUE      FALSE        TRUE          FALSE   \n",
       "6   5088 256615 29254   191  ⋯  TRUE      FALSE        TRUE          FALSE   \n",
       "  Has Pages Has Discussions Is Fork Is Archived Is Template Default Branch\n",
       "1  TRUE     FALSE           FALSE   FALSE       FALSE       main          \n",
       "2  TRUE     FALSE           FALSE   FALSE       FALSE       main          \n",
       "3  TRUE     FALSE           FALSE   FALSE       FALSE       main          \n",
       "4 FALSE     FALSE           FALSE    TRUE       FALSE       master        \n",
       "5 FALSE     FALSE           FALSE   FALSE       FALSE       main          \n",
       "6 FALSE     FALSE           FALSE   FALSE       FALSE       master        "
      ]
     },
     "metadata": {},
     "output_type": "display_data"
    }
   ],
   "source": [
    "head(repos)"
   ]
  },
  {
   "cell_type": "code",
   "execution_count": 4,
   "id": "5cb2a51a-47c9-4ba9-b3c0-b6e431aad32f",
   "metadata": {},
   "outputs": [
    {
     "data": {
      "text/html": [
       "2704"
      ],
      "text/latex": [
       "2704"
      ],
      "text/markdown": [
       "2704"
      ],
      "text/plain": [
       "[1] 2704"
      ]
     },
     "metadata": {},
     "output_type": "display_data"
    }
   ],
   "source": [
    "nrow(repos)"
   ]
  },
  {
   "cell_type": "markdown",
   "id": "ed2413cd-0e7d-4897-9538-466ce0fa23ba",
   "metadata": {},
   "source": [
    "This data set from Kaggle containing 2704 observations across 24 variables for Git Hub repositories with over 167 stars. The variables are explained below:\n",
    "\n",
    "| Variable | Data type  | Description  |\n",
    "|---|---|---|\n",
    "| Name |  chr | Name of the repository  |\n",
    "| Description | chr  |  Short description of the repository |   \n",
    "|  URL |  chr | URL at which repository can be found  |   \n",
    "|  Created at |  date-time | Date and time repository was created  |   \n",
    "|  Updated at |  date-time |  Date and time the most recent update or modification was to the repository |  \n",
    "|  Homepage | chr  |  The URL to the homepage or landing page associated with the repository, providing additional information or resources |   \n",
    "|  Size |  dbl | The size of the repository in bytes, indicating the total storage space used by the repository's files and data  | \n",
    "|  Stars | dbl  | The number of stars or likes that the repository has received from other GitHub users, indicating its popularity or interest |  \n",
    "|  Forks |  dbl |  The number of times the repository has been forked by other GitHub users |   \n",
    "|  Issues | dbl  | The total number of open issues  |  \n",
    "|  Watchers | dbl  |  The number of GitHub users who are \"watching\" or monitoring the repository for updates and changes | \n",
    "|  Language |  chr | The predominant programming language of the repository  | \n",
    "|  License | chr  |  The license under which the repository is protected |  \n",
    "|  Topics | chr  |  A list of topics or tags associated with the repository |\n",
    "|  Has Issues | lgl  |  Whether or not the repository has issues |  \n",
    "|  Has Projects |  lgl | Whether the repository uses GitHub Projects to manage and organize tasks  |  \n",
    "|  Has Downloads |  lgl |  Whether the repository offers downloadable files or assets to users |   \n",
    "|  Has Wiki |  lgl | Whether the repository has an associated wiki with additional documentation and information  | \n",
    "|  Has Pages |  lgl | Whether the repository has GitHub Pages enabled, allowing the creation of a website associated with the repository  | \n",
    "|  Has Discussions | lgl  | Whether the repository has GitHub Discussions enabled, allowing community discussions and collaboration  |   \n",
    "|  Is Fork | lgl  |  Whether the repository is a fork of another repository |   \n",
    "|  Is Archived | lgl  | Whether the repository is archived  |   \n",
    "|  Is Template | lgl  | Whether the repository is set up as a template  | \n",
    "|  Default Branch | chr  |  The name of the default branch in the repository |   "
   ]
  },
  {
   "cell_type": "markdown",
   "id": "315dd7cb-2b85-4832-9d79-b33a973a6c95",
   "metadata": {},
   "source": [
    "## (2) Question:\n",
    "Clearly state the question you will try to answer using the selected dataset. Your question should involve one random variable of interest (the response) and one or more explanatory variables. Describe clearly how the data will help you address the question of interest. Explain whether your question is focused on prediction, inference, or both.\n"
   ]
  },
  {
   "cell_type": "markdown",
   "id": "cbbe48d2-463c-408a-95cc-041d9b7d6b55",
   "metadata": {},
   "source": [
    "**The question I would like to ask is, *\"Is the size, number of issues, number of forks, whether or not a repository has issues, and whether the repository has downloads indicative of the number of stars a Git Hub repository receives?'* This question is an inference question, as I would like to see if these variables are good indicators of repository popularity for the entire population of repositories on Git Hub. The data set I am working with will allow me to explore the relationship between these explanatory variables and the reponse variable, number of repository stars.**"
   ]
  },
  {
   "cell_type": "markdown",
   "id": "b66c843b-977b-4e4a-8c98-5f82f02cefc6",
   "metadata": {},
   "source": [
    "## (3) Exploratory Data Analysis and Visualization\n",
    "In this assignment, you will:\n",
    "\n",
    "Demonstrate that the dataset can be loaded into R.\n",
    "Clean and wrangle your data into a tidy format.\n",
    "Propose a visualization that you consider relevant to address your question or to explore the data.\n",
    "propose a high-quality plot or set of plots of the same kind (e.g., histograms of different variables)\n",
    "explain why you consider this plot relevant to address your question or to explore the data\n",
    "Note: this visualization does not have to illustrate the results of a methodology. Instead, you are exploring which variables are relevant, potential problems that you anticipate encountering, groups in the observations, etc."
   ]
  },
  {
   "cell_type": "markdown",
   "id": "df6f36b7-c9cc-4be7-a1fa-014437cd2bfe",
   "metadata": {},
   "source": [
    "## Data cleaning\n",
    "\n",
    "Above, I read the data set into R. The data set appears to be pretty clean, but, just for convention, I will rename all the column names to be lowercase and replace the spaces in the variable names with underscores using the ``janitor`` package. "
   ]
  },
  {
   "cell_type": "code",
   "execution_count": 11,
   "id": "b6bde6b9-4733-44f4-b968-6f6b7bfdbe1d",
   "metadata": {},
   "outputs": [
    {
     "data": {
      "text/html": [
       "<style>\n",
       ".list-inline {list-style: none; margin:0; padding: 0}\n",
       ".list-inline>li {display: inline-block}\n",
       ".list-inline>li:not(:last-child)::after {content: \"\\00b7\"; padding: 0 .5ex}\n",
       "</style>\n",
       "<ol class=list-inline><li>'name'</li><li>'description'</li><li>'url'</li><li>'created_at'</li><li>'updated_at'</li><li>'homepage'</li><li>'size'</li><li>'stars'</li><li>'forks'</li><li>'issues'</li><li>'watchers'</li><li>'language'</li><li>'license'</li><li>'topics'</li><li>'has_issues'</li><li>'has_projects'</li><li>'has_downloads'</li><li>'has_wiki'</li><li>'has_pages'</li><li>'has_discussions'</li><li>'is_fork'</li><li>'is_archived'</li><li>'is_template'</li><li>'default_branch'</li></ol>\n"
      ],
      "text/latex": [
       "\\begin{enumerate*}\n",
       "\\item 'name'\n",
       "\\item 'description'\n",
       "\\item 'url'\n",
       "\\item 'created\\_at'\n",
       "\\item 'updated\\_at'\n",
       "\\item 'homepage'\n",
       "\\item 'size'\n",
       "\\item 'stars'\n",
       "\\item 'forks'\n",
       "\\item 'issues'\n",
       "\\item 'watchers'\n",
       "\\item 'language'\n",
       "\\item 'license'\n",
       "\\item 'topics'\n",
       "\\item 'has\\_issues'\n",
       "\\item 'has\\_projects'\n",
       "\\item 'has\\_downloads'\n",
       "\\item 'has\\_wiki'\n",
       "\\item 'has\\_pages'\n",
       "\\item 'has\\_discussions'\n",
       "\\item 'is\\_fork'\n",
       "\\item 'is\\_archived'\n",
       "\\item 'is\\_template'\n",
       "\\item 'default\\_branch'\n",
       "\\end{enumerate*}\n"
      ],
      "text/markdown": [
       "1. 'name'\n",
       "2. 'description'\n",
       "3. 'url'\n",
       "4. 'created_at'\n",
       "5. 'updated_at'\n",
       "6. 'homepage'\n",
       "7. 'size'\n",
       "8. 'stars'\n",
       "9. 'forks'\n",
       "10. 'issues'\n",
       "11. 'watchers'\n",
       "12. 'language'\n",
       "13. 'license'\n",
       "14. 'topics'\n",
       "15. 'has_issues'\n",
       "16. 'has_projects'\n",
       "17. 'has_downloads'\n",
       "18. 'has_wiki'\n",
       "19. 'has_pages'\n",
       "20. 'has_discussions'\n",
       "21. 'is_fork'\n",
       "22. 'is_archived'\n",
       "23. 'is_template'\n",
       "24. 'default_branch'\n",
       "\n",
       "\n"
      ],
      "text/plain": [
       " [1] \"name\"            \"description\"     \"url\"             \"created_at\"     \n",
       " [5] \"updated_at\"      \"homepage\"        \"size\"            \"stars\"          \n",
       " [9] \"forks\"           \"issues\"          \"watchers\"        \"language\"       \n",
       "[13] \"license\"         \"topics\"          \"has_issues\"      \"has_projects\"   \n",
       "[17] \"has_downloads\"   \"has_wiki\"        \"has_pages\"       \"has_discussions\"\n",
       "[21] \"is_fork\"         \"is_archived\"     \"is_template\"     \"default_branch\" "
      ]
     },
     "metadata": {},
     "output_type": "display_data"
    }
   ],
   "source": [
    "repos <- clean_names(repos)\n",
    "colnames(repos)"
   ]
  },
  {
   "cell_type": "markdown",
   "id": "510ddfb8-2536-470d-bf2c-21878e2c5b28",
   "metadata": {},
   "source": [
    "## Data visualization\n",
    "\n",
    "Below, I will visualize the distribution of stars in our data set, to see approximately what the distribution of popularity of repositories in our data set is. This is helpful to me as I get a grasp on how evenly or unevenly distributed the target variable in my data set is. It will also allow me to see approximately what the mean value of this target variable is which will ultimately give me insights into what an intercept-only model would look like for my target variable. \n",
    "Next I will visualize the distributions of the other explanantory variables and their correlation coefficients."
   ]
  }
 ],
 "metadata": {
  "kernelspec": {
   "display_name": "R",
   "language": "R",
   "name": "ir"
  },
  "language_info": {
   "codemirror_mode": "r",
   "file_extension": ".r",
   "mimetype": "text/x-r-source",
   "name": "R",
   "pygments_lexer": "r",
   "version": "4.3.3"
  }
 },
 "nbformat": 4,
 "nbformat_minor": 5
}
